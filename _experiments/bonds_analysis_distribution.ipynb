{
 "cells": [
  {
   "cell_type": "code",
   "execution_count": null,
   "id": "df000f4d",
   "metadata": {},
   "outputs": [],
   "source": [
    "from pathlib import Path\n",
    "\n",
    "ROOT = Path(globals()['__vsc_ipynb_file__']).parent.parent\n",
    "print(ROOT)\n",
    "\n",
    "import sys\n",
    "sys.path.append(str(ROOT))"
   ]
  },
  {
   "cell_type": "code",
   "execution_count": 144,
   "id": "ea0f9e9c",
   "metadata": {},
   "outputs": [],
   "source": [
    "from src.experiment import Experiment\n",
    "\n",
    "from qiskit import qpy\n",
    "import seaborn as sns\n",
    "import matplotlib.pyplot as plt\n",
    "import matplotlib.pyplot as plt\n",
    "import numpy as np\n",
    "import pandas as pd"
   ]
  },
  {
   "cell_type": "code",
   "execution_count": null,
   "id": "d36b0109",
   "metadata": {},
   "outputs": [],
   "source": [
    "from model_validator.validator import is_feasible"
   ]
  },
  {
   "cell_type": "markdown",
   "id": "97e1b25d",
   "metadata": {},
   "source": [
    "### 30 bonds -- 100 runs of the same problem"
   ]
  },
  {
   "cell_type": "code",
   "execution_count": null,
   "id": "101fa488",
   "metadata": {},
   "outputs": [
    {
     "name": "stdout",
     "output_type": "stream",
     "text": [
      "Mean time: 1012.819284555912\n",
      "Mean rel. gap: 0.17389538553126596\n",
      "Num evals: 358.74\n"
     ]
    }
   ],
   "source": [
    "num_bonds = 30\n",
    "num_runs = 100\n",
    "\n",
    "df = pd.DataFrame()\n",
    "time_100runs = np.zeros(num_runs)\n",
    "rel_gap_100runs = np.zeros(num_runs)\n",
    "num_evals_100runs = np.zeros(num_runs)\n",
    "is_feasible_100runs = np.zeros(num_runs)\n",
    "\n",
    "\n",
    "for exp_id in range(num_runs):\n",
    "    path = f'1/30bonds_1problem_100runs/Bonds{num_bonds}_TwoLocal2rep_piby3_AerSimulator_0p1/exp{exp_id}.pkl'\n",
    "    ds = Experiment.read_experiment(path)\n",
    "    time_100runs[exp_id] = ds.step3_time\n",
    "    rel_gap_100runs[exp_id] = (ds.step3_result_best_fx-ds.refvalue)/ds.step3_result_best_fx\n",
    "    num_evals_100runs[exp_id] = len(ds.step3_iter_best_fx)\n",
    "    is_feasible_100runs[exp_id] = is_feasible('../data/1/30bonds_1problem_100runs/normalized_problem_30bonds_v3.lp',ds.step3_result_best_x)\n",
    "    # print(f' Bonds: {num_bonds}\\n Time: {ds.step3_time}\\n num_evals: {len(ds.step3_iter_best_fx)}\\n refval: {ds.refvalue}\\n best_x: {ds.step3_result_best_fx}')\n",
    "\n",
    "print(f\"Mean time: {np.mean(time_100runs)}\")\n",
    "print(f\"Mean rel. gap: {np.mean(rel_gap_100runs)}\")\n",
    "print(f\"Num evals: {np.mean(num_evals_100runs)}\")"
   ]
  },
  {
   "cell_type": "markdown",
   "id": "f58d538f",
   "metadata": {},
   "source": [
    "#### Is the solution feasible?"
   ]
  },
  {
   "cell_type": "code",
   "execution_count": 147,
   "id": "846ff73f",
   "metadata": {},
   "outputs": [
    {
     "data": {
      "text/plain": [
       "np.float64(1.0)"
      ]
     },
     "execution_count": 147,
     "metadata": {},
     "output_type": "execute_result"
    }
   ],
   "source": [
    "np.sum(is_feasible_100runs == True)/num_runs"
   ]
  },
  {
   "cell_type": "markdown",
   "id": "da8f166b",
   "metadata": {},
   "source": [
    "#### Relative Gap"
   ]
  },
  {
   "cell_type": "code",
   "execution_count": 148,
   "id": "0ba826d8",
   "metadata": {},
   "outputs": [
    {
     "data": {
      "image/png": "[encoded data removed]",
      "text/plain": [
       "<Figure size 290x210 with 1 Axes>"
      ]
     },
     "metadata": {},
     "output_type": "display_data"
    }
   ],
   "source": [
    "tail_right = np.percentile(rel_gap_100runs, q=95)\n",
    "tail_left = np.percentile(rel_gap_100runs, q=5)\n",
    "\n",
    "plt.figure(figsize=(2.9, 2.1))\n",
    "plt.hist(rel_gap_100runs, bins=15, edgecolor='k')\n",
    "plt.axvline(tail_right, c='red')\n",
    "plt.axvline(tail_left, c='red')\n",
    "plt.tick_params(axis='both', direction='in')\n",
    "plt.xlabel(\"Relative gap\")\n",
    "plt.ylabel(\"Counts\")\n",
    "# plt.title(\"TwoLocal,alpha=0.1,rep=2,bilinear,penalty=1.1\")\n",
    "# plt.legend(\n",
    "#     ncol=2,                # two columns\n",
    "#     frameon=False,         # no border frame\n",
    "#     loc='upper center',    # position (customize as needed)\n",
    "#     bbox_to_anchor=(0.54, 1.05)\n",
    "# )\n",
    "plt.savefig(\"imgs/ONEPROBLEM100RUNS_RELGAP_TwoLocal_rep2_alpha0p1_bilinear.png\", dpi=300, bbox_inches='tight')\n",
    "plt.show()"
   ]
  },
  {
   "cell_type": "markdown",
   "id": "e627c66d",
   "metadata": {},
   "source": [
    "#### Time"
   ]
  },
  {
   "cell_type": "code",
   "execution_count": 149,
   "id": "fb5d1870",
   "metadata": {},
   "outputs": [
    {
     "data": {
      "image/png": "[encoded data removed]",
      "text/plain": [
       "<Figure size 290x210 with 1 Axes>"
      ]
     },
     "metadata": {},
     "output_type": "display_data"
    }
   ],
   "source": [
    "plt.figure(figsize=(2.9, 2.1))\n",
    "plt.hist(time_100runs, bins=15, edgecolor='k')\n",
    "# plt.axvline(tail_right, c='red')\n",
    "# plt.axvline(tail_left, c='red')\n",
    "plt.tick_params(axis='both', direction='in')\n",
    "plt.xlabel(\"Time\")\n",
    "plt.ylabel(\"Counts\")\n",
    "# plt.title(\"TwoLocal,alpha=0.1,rep=2,bilinear,penalty=1.1\")\n",
    "# plt.legend(\n",
    "#     ncol=2,                # two columns\n",
    "#     frameon=False,         # no border frame\n",
    "#     loc='upper center',    # position (customize as needed)\n",
    "#     bbox_to_anchor=(0.54, 1.05)\n",
    "# )\n",
    "plt.savefig(\"imgs/ONEPROBLEM100RUNS_TIME_TwoLocal_rep2_alpha0p1_bilinear.png\", dpi=300, bbox_inches='tight')\n",
    "plt.show()"
   ]
  },
  {
   "cell_type": "markdown",
   "id": "bc321cf2",
   "metadata": {},
   "source": [
    "#### Quantum Iterations"
   ]
  },
  {
   "cell_type": "code",
   "execution_count": 150,
   "id": "a7a9ca9f",
   "metadata": {},
   "outputs": [
    {
     "data": {
      "image/png": "[encoded data removed]",
      "text/plain": [
       "<Figure size 290x210 with 1 Axes>"
      ]
     },
     "metadata": {},
     "output_type": "display_data"
    }
   ],
   "source": [
    "plt.figure(figsize=(2.9, 2.1))\n",
    "plt.hist(num_evals_100runs, bins=15, edgecolor='k')\n",
    "# plt.axvline(tail_right, c='red')\n",
    "# plt.axvline(tail_left, c='red')\n",
    "plt.tick_params(axis='both', direction='in')\n",
    "plt.xlabel(\"Quantum iteration\")\n",
    "plt.ylabel(\"Counts\")\n",
    "# plt.title(\"TwoLocal,alpha=0.1,rep=2,bilinear,penalty=1.1\")\n",
    "# plt.legend(\n",
    "#     ncol=2,                # two columns\n",
    "#     frameon=False,         # no border frame\n",
    "#     loc='upper center',    # position (customize as needed)\n",
    "#     bbox_to_anchor=(0.54, 1.05)\n",
    "# )\n",
    "plt.savefig(\"imgs/ONEPROBLEM100RUNS_NUMEVALS_TwoLocal_rep2_alpha0p1_bilinear.png\", dpi=300, bbox_inches='tight')\n",
    "plt.show()"
   ]
  },
  {
   "cell_type": "markdown",
   "id": "0bc58ffb",
   "metadata": {},
   "source": [
    "### 30 bonds -- 1 run of 100 different problems"
   ]
  },
  {
   "cell_type": "code",
   "execution_count": null,
   "id": "2f33484d",
   "metadata": {},
   "outputs": [
    {
     "name": "stdout",
     "output_type": "stream",
     "text": [
      "Mean time: 821.6171900582314\n",
      "Mean rel. gap: 0.1400121458250198\n",
      "Num evals: 312.3\n"
     ]
    }
   ],
   "source": [
    "num_bonds = 30\n",
    "exp_id = 0\n",
    "num_problems = 100\n",
    "\n",
    "df = pd.DataFrame()\n",
    "time = np.zeros(num_problems)\n",
    "rel_gap = np.zeros(num_problems)\n",
    "num_evals = np.zeros(num_problems)\n",
    "is_feasible_100problems = np.zeros(num_problems)\n",
    "\n",
    "\n",
    "for id in range(num_problems):\n",
    "    path = f'1/{num_bonds}bonds_100problems_1run/Bonds{num_bonds}_TwoLocal2rep_piby3_AerSimulator_{id}_0p1/exp{exp_id}.pkl'\n",
    "    ds = Experiment.read_experiment(path)\n",
    "    time[id] = ds.step3_time\n",
    "    rel_gap[id] = (ds.step3_result_best_fx-ds.refvalue)/ds.step3_result_best_fx\n",
    "    num_evals[id] = len(ds.step3_iter_best_fx)\n",
    "    is_feasible_100problems[id] = is_feasible(f'../data/1/{num_bonds}bonds_100problems_1run/normalized_problem_30bonds_v3_{id}.lp',ds.step3_result_best_x)\n",
    "    \n",
    "    # print(f' Bonds: {num_bonds}\\n Time: {ds.step3_time}\\n num_evals: {len(ds.step3_iter_best_fx)}\\n refval: {ds.refvalue}\\n best_x: {ds.step3_result_best_fx}')\n",
    "\n",
    "print(f\"Mean time: {np.mean(time)}\")\n",
    "print(f\"Mean rel. gap: {np.mean(rel_gap)}\")\n",
    "print(f\"Num evals: {np.mean(num_evals)}\")"
   ]
  },
  {
   "cell_type": "markdown",
   "id": "8fd3e7df",
   "metadata": {},
   "source": [
    "#### Is the solution feasible?"
   ]
  },
  {
   "cell_type": "code",
   "execution_count": 152,
   "id": "3384f616",
   "metadata": {},
   "outputs": [
    {
     "data": {
      "text/plain": [
       "np.float64(0.99)"
      ]
     },
     "execution_count": 152,
     "metadata": {},
     "output_type": "execute_result"
    }
   ],
   "source": [
    "np.sum(is_feasible_100problems == True)/num_problems"
   ]
  },
  {
   "cell_type": "code",
   "execution_count": 153,
   "id": "1525beda",
   "metadata": {},
   "outputs": [
    {
     "data": {
      "text/plain": [
       "array([1., 1., 1., 1., 1., 1., 1., 1., 1., 1., 1., 1., 1., 1., 1., 1., 1.,\n",
       "       1., 1., 1., 1., 1., 1., 1., 1., 1., 1., 1., 1., 1., 1., 1., 1., 1.,\n",
       "       1., 1., 1., 1., 1., 1., 1., 1., 1., 1., 1., 1., 1., 1., 1., 1., 1.,\n",
       "       1., 1., 1., 1., 1., 1., 1., 1., 1., 1., 1., 1., 1., 1., 1., 1., 1.,\n",
       "       1., 1., 1., 1., 1., 1., 1., 1., 1., 1., 1., 0., 1., 1., 1., 1., 1.,\n",
       "       1., 1., 1., 1., 1., 1., 1., 1., 1., 1., 1., 1., 1., 1., 1.])"
      ]
     },
     "execution_count": 153,
     "metadata": {},
     "output_type": "execute_result"
    }
   ],
   "source": [
    "is_feasible_100problems"
   ]
  },
  {
   "cell_type": "markdown",
   "id": "b9f567f0",
   "metadata": {},
   "source": [
    "#### Relative Gap"
   ]
  },
  {
   "cell_type": "code",
   "execution_count": 154,
   "id": "0e35193b",
   "metadata": {},
   "outputs": [
    {
     "data": {
      "image/png": "[encoded data removed]",
      "text/plain": [
       "<Figure size 290x210 with 1 Axes>"
      ]
     },
     "metadata": {},
     "output_type": "display_data"
    }
   ],
   "source": [
    "tail_right = np.percentile(rel_gap, q=95)\n",
    "tail_left = np.percentile(rel_gap, q=5)\n",
    "\n",
    "plt.figure(figsize=(2.9, 2.1))\n",
    "plt.hist(rel_gap, bins=15, edgecolor='k')\n",
    "plt.axvline(tail_right, c='red')\n",
    "# plt.axvline(tail_left, c='red')\n",
    "plt.tick_params(axis='both', direction='in')\n",
    "plt.xlabel(\"Relative gap\")\n",
    "plt.ylabel(\"Counts\")\n",
    "# plt.title(\"TwoLocal,alpha=0.1,rep=2,bilinear,penalty=1.1\")\n",
    "# plt.legend(\n",
    "#     ncol=2,                # two columns\n",
    "#     frameon=False,         # no border frame\n",
    "#     loc='upper center',    # position (customize as needed)\n",
    "#     bbox_to_anchor=(0.54, 1.05)\n",
    "# )\n",
    "plt.savefig(\"imgs/100PROBLEM1RUN_RELGAP_TwoLocal_rep2_alpha0p1_bilinear.png\", dpi=300, bbox_inches='tight')\n",
    "plt.show()"
   ]
  },
  {
   "cell_type": "markdown",
   "id": "effb9437",
   "metadata": {},
   "source": [
    "#### Time"
   ]
  },
  {
   "cell_type": "code",
   "execution_count": 155,
   "id": "b458e4e1",
   "metadata": {},
   "outputs": [
    {
     "data": {
      "image/png": "[encoded data removed]",
      "text/plain": [
       "<Figure size 290x210 with 1 Axes>"
      ]
     },
     "metadata": {},
     "output_type": "display_data"
    }
   ],
   "source": [
    "plt.figure(figsize=(2.9, 2.1))\n",
    "plt.hist(time, bins=15, edgecolor='k')\n",
    "# plt.axvline(tail_right, c='red')\n",
    "# plt.axvline(tail_left, c='red')\n",
    "plt.tick_params(axis='both', direction='in')\n",
    "plt.xlabel(\"Time\")\n",
    "plt.ylabel(\"Counts\")\n",
    "# plt.title(\"TwoLocal,alpha=0.1,rep=2,bilinear,penalty=1.1\")\n",
    "# plt.legend(\n",
    "#     ncol=2,                # two columns\n",
    "#     frameon=False,         # no border frame\n",
    "#     loc='upper center',    # position (customize as needed)\n",
    "#     bbox_to_anchor=(0.54, 1.05)\n",
    "# )\n",
    "plt.savefig(\"imgs/100PROBLEM1RUN_TIME_TwoLocal_rep2_alpha0p1_bilinear.png\", dpi=300, bbox_inches='tight')\n",
    "plt.show()"
   ]
  },
  {
   "cell_type": "markdown",
   "id": "f1c4dc5d",
   "metadata": {},
   "source": [
    "#### Quantum Iterations"
   ]
  },
  {
   "cell_type": "code",
   "execution_count": 156,
   "id": "0827f09b",
   "metadata": {},
   "outputs": [
    {
     "data": {
      "image/png": "[encoded data removed]",
      "text/plain": [
       "<Figure size 290x210 with 1 Axes>"
      ]
     },
     "metadata": {},
     "output_type": "display_data"
    }
   ],
   "source": [
    "plt.figure(figsize=(2.9, 2.1))\n",
    "plt.hist(num_evals, bins=15, edgecolor='k')\n",
    "# plt.axvline(tail_right, c='red')\n",
    "# plt.axvline(tail_left, c='red')\n",
    "plt.tick_params(axis='both', direction='in')\n",
    "plt.xlabel(\"Quantum iteration\")\n",
    "plt.ylabel(\"Counts\")\n",
    "# plt.title(\"TwoLocal,alpha=0.1,rep=2,bilinear,penalty=1.1\")\n",
    "# plt.legend(\n",
    "#     ncol=2,                # two columns\n",
    "#     frameon=False,         # no border frame\n",
    "#     loc='upper center',    # position (customize as needed)\n",
    "#     bbox_to_anchor=(0.54, 1.05)\n",
    "# )\n",
    "plt.savefig(\"imgs/100PROBLEM1RUN_NUMEVALS_TwoLocal_rep2_alpha0p1_bilinear.png\", dpi=300, bbox_inches='tight')\n",
    "plt.show()"
   ]
  },
  {
   "cell_type": "markdown",
   "id": "eff1f286",
   "metadata": {},
   "source": [
    "### boxplots: compare both experiments"
   ]
  },
  {
   "cell_type": "markdown",
   "id": "4a7b53c5",
   "metadata": {},
   "source": [
    "#### Time"
   ]
  },
  {
   "cell_type": "code",
   "execution_count": 157,
   "id": "c8b3d3ed",
   "metadata": {},
   "outputs": [
    {
     "data": {
      "image/png": "[encoded data removed]",
      "text/plain": [
       "<Figure size 290x210 with 1 Axes>"
      ]
     },
     "metadata": {},
     "output_type": "display_data"
    }
   ],
   "source": [
    "plt.figure(figsize=(2.9, 2.1))\n",
    "plt.boxplot([time_100runs, time], patch_artist=True, boxprops=dict(facecolor='lightblue'),showfliers=False)\n",
    "plt.tick_params(axis='both', direction='in')\n",
    "# plt.xlabel(\"Quantum iteration\")\n",
    "plt.ylabel(\"Time\")\n",
    "plt.xticks([1, 2], ['100 Runs', '100 Problems'])\n",
    "plt.savefig(\"imgs/BOXPLOT_TIME_TwoLocal_rep2_alpha0p1_bilinear.png\", dpi=300, bbox_inches='tight')\n",
    "plt.show()"
   ]
  },
  {
   "cell_type": "markdown",
   "id": "875fcd6b",
   "metadata": {},
   "source": [
    "#### Relative Gap"
   ]
  },
  {
   "cell_type": "code",
   "execution_count": 158,
   "id": "5e04e7b6",
   "metadata": {},
   "outputs": [
    {
     "data": {
      "image/png": "[encoded data removed]",
      "text/plain": [
       "<Figure size 290x210 with 1 Axes>"
      ]
     },
     "metadata": {},
     "output_type": "display_data"
    }
   ],
   "source": [
    "plt.figure(figsize=(2.9, 2.1))\n",
    "plt.boxplot([rel_gap_100runs, rel_gap], patch_artist=True, boxprops=dict(facecolor='lightblue'))#,showfliers=False)\n",
    "plt.tick_params(axis='both', direction='in')\n",
    "# plt.xlabel(\"Quantum iteration\")\n",
    "plt.ylabel(\"Relative gap\")\n",
    "plt.xticks([1, 2], ['100 Runs', '100 Problems'])\n",
    "plt.savefig(\"imgs/BOXPLOT_RELGAP_TwoLocal_rep2_alpha0p1_bilinear.png\", dpi=300, bbox_inches='tight')\n",
    "plt.show()"
   ]
  },
  {
   "cell_type": "markdown",
   "id": "cef2e753",
   "metadata": {},
   "source": [
    "#### Quantum Iterations"
   ]
  },
  {
   "cell_type": "code",
   "execution_count": 159,
   "id": "e62c6d91",
   "metadata": {},
   "outputs": [
    {
     "data": {
      "image/png": "[encoded data removed]",
      "text/plain": [
       "<Figure size 290x210 with 1 Axes>"
      ]
     },
     "metadata": {},
     "output_type": "display_data"
    }
   ],
   "source": [
    "plt.figure(figsize=(2.9, 2.1))\n",
    "plt.boxplot([num_evals_100runs, num_evals], patch_artist=True, boxprops=dict(facecolor='lightblue'))#,showfliers=False)\n",
    "plt.tick_params(axis='both', direction='in')\n",
    "# plt.xlabel(\"Quantum iteration\")\n",
    "plt.ylabel(\"Quantum interation\")\n",
    "plt.xticks([1, 2], ['100 Runs', '100 Problems'])\n",
    "plt.savefig(\"imgs/BOXPLOT_NUMEVALS_TwoLocal_rep2_alpha0p1_bilinear.png\", dpi=300, bbox_inches='tight')\n",
    "plt.show()"
   ]
  },
  {
   "cell_type": "code",
   "execution_count": null,
   "id": "22719eff",
   "metadata": {},
   "outputs": [],
   "source": []
  }
 ],
 "metadata": {
  "kernelspec": {
   "display_name": "2025-QFinance-VG",
   "language": "python",
   "name": "python3"
  },
  "language_info": {
   "codemirror_mode": {
    "name": "ipython",
    "version": 3
   },
   "file_extension": ".py",
   "mimetype": "text/x-python",
   "name": "python",
   "nbconvert_exporter": "python",
   "pygments_lexer": "ipython3",
   "version": "3.11.13"
  }
 },
 "nbformat": 4,
 "nbformat_minor": 5
}
