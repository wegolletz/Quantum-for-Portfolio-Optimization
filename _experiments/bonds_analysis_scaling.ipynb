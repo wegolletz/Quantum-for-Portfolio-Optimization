{
 "cells": [
  {
   "cell_type": "code",
   "execution_count": null,
   "id": "df000f4d",
   "metadata": {},
   "outputs": [],
   "source": [
    "from pathlib import Path\n",
    "\n",
    "ROOT = Path(globals()['__vsc_ipynb_file__']).parent.parent\n",
    "print(ROOT)\n",
    "\n",
    "import sys\n",
    "sys.path.append(str(ROOT))"
   ]
  },
  {
   "cell_type": "code",
   "execution_count": 12,
   "id": "ea0f9e9c",
   "metadata": {},
   "outputs": [],
   "source": [
    "from src.experiment import Experiment\n",
    "\n",
    "from qiskit import qpy\n",
    "import seaborn as sns\n",
    "import matplotlib.pyplot as plt\n",
    "import matplotlib.pyplot as plt\n",
    "import numpy as np\n",
    "import pandas as pd"
   ]
  },
  {
   "cell_type": "code",
   "execution_count": null,
   "id": "74bf4502",
   "metadata": {},
   "outputs": [],
   "source": [
    "from model_validator.validator import is_feasible"
   ]
  },
  {
   "cell_type": "code",
   "execution_count": 32,
   "id": "1ad7eda1",
   "metadata": {},
   "outputs": [],
   "source": [
    "# print(\"TwoLocal\\n\")\n",
    "\n",
    "# for num_bonds in [15,20,25,26,27,28,29,30]:\n",
    "#     exp_id = 0\n",
    "#     path = f'1/test_bonds/Bonds{num_bonds}_TwoLocal2rep_piby3_AerSimulator_0p1/exp{exp_id}.pkl'\n",
    "#     ds = Experiment.read_experiment(path)\n",
    "#     print(f' Bonds: {num_bonds}\\n Time: {ds.step3_time}\\n num_evals: {len(ds.step3_iter_best_fx)}\\n refval: {ds.refvalue}\\n best_x: {ds.step3_result_best_fx}\\n')"
   ]
  },
  {
   "cell_type": "markdown",
   "id": "fc141e07",
   "metadata": {},
   "source": [
    "### TwoLocal, alpha=0.1, rep=2, bilinear"
   ]
  },
  {
   "cell_type": "code",
   "execution_count": null,
   "id": "ad19e7ea",
   "metadata": {},
   "outputs": [],
   "source": [
    "num_bonds = [15,20,25,30]\n",
    "runs = 10\n",
    "rel_gap = np.zeros((len(num_bonds),runs))\n",
    "time = np.zeros((len(num_bonds),runs))\n",
    "is_feasible_check = np.zeros((len(num_bonds),runs))\n",
    "num_evals = np.zeros((len(num_bonds),runs))\n",
    "\n",
    "\n",
    "for (id_bond, num_bond) in enumerate(num_bonds):\n",
    "    for exp_id in range(runs):\n",
    "        path = f'1/scaling/Bonds{num_bond}_TwoLocal2rep_piby3_AerSimulator_0p1/exp{exp_id}.pkl'\n",
    "        ds = Experiment.read_experiment(path)\n",
    "        rel_gap[id_bond,exp_id] = (ds.step3_result_best_fx-ds.refvalue)/ds.step3_result_best_fx\n",
    "        time[id_bond,exp_id] = ds.step3_time\n",
    "        num_evals[id_bond,exp_id] = len(ds.step3_iter_best_fx)\n",
    "        is_feasible_check[id_bond,exp_id] = is_feasible(f'../data/1/scaling/normalized_problem_{num_bond}bonds_v3.lp',ds.step3_result_best_x)\n",
    "        # print(f' Bonds: {num_bond}\\n Time: {ds.step3_time}\\n num_evals: {len(ds.step3_iter_best_fx)}\\n refval: {ds.refvalue}\\n best_x: {ds.step3_result_best_fx}\\n')"
   ]
  },
  {
   "cell_type": "markdown",
   "id": "65ec5cac",
   "metadata": {},
   "source": [
    "#### Is the solution feasible?"
   ]
  },
  {
   "cell_type": "code",
   "execution_count": 58,
   "id": "1c9147fa",
   "metadata": {},
   "outputs": [
    {
     "data": {
      "text/plain": [
       "array([1., 1., 1., 1.])"
      ]
     },
     "execution_count": 58,
     "metadata": {},
     "output_type": "execute_result"
    }
   ],
   "source": [
    "np.sum(is_feasible_check == True, axis=1)/runs"
   ]
  },
  {
   "cell_type": "markdown",
   "id": "44bc5e37",
   "metadata": {},
   "source": [
    "#### Relative Gap"
   ]
  },
  {
   "cell_type": "code",
   "execution_count": 61,
   "id": "be560601",
   "metadata": {},
   "outputs": [
    {
     "data": {
      "image/png": "[encoded data removed]",
      "text/plain": [
       "<Figure size 290x210 with 1 Axes>"
      ]
     },
     "metadata": {},
     "output_type": "display_data"
    }
   ],
   "source": [
    "plt.figure(figsize=(2.9, 2.1))\n",
    "# Create the boxplot\n",
    "\n",
    "# sns.boxplot(data=df)\n",
    "# sns.boxplot(data=df_melted, patch_artist=True, boxprops=dict(facecolor='lightblue'))#,showfliers=False)\n",
    "plt.boxplot(list(rel_gap), patch_artist=True, boxprops=dict(facecolor='lightblue'))#,showfliers=False)\n",
    "\n",
    "plt.tick_params(axis='both', direction='in')\n",
    "# plt.xlabel(\"Quantum iteration\")\n",
    "plt.ylabel(\"Relative gap\")\n",
    "new_labels = [15, 20, 25, 30]\n",
    "plt.xticks(ticks=np.arange(1, len(new_labels) + 1), labels=new_labels)\n",
    "plt.xlabel('Bonds')\n",
    "plt.savefig(\"imgs/SCALING_RELGAP_TwoLocal_rep2_alpha0p1_bilinear.png\", dpi=300, bbox_inches='tight')\n",
    "plt.show()"
   ]
  },
  {
   "cell_type": "markdown",
   "id": "e5241a69",
   "metadata": {},
   "source": [
    "#### Time"
   ]
  },
  {
   "cell_type": "code",
   "execution_count": 62,
   "id": "8371eebe",
   "metadata": {},
   "outputs": [
    {
     "data": {
      "image/png": "[encoded data removed]",
      "text/plain": [
       "<Figure size 290x210 with 1 Axes>"
      ]
     },
     "metadata": {},
     "output_type": "display_data"
    }
   ],
   "source": [
    "plt.figure(figsize=(2.9, 2.1))\n",
    "# Create the boxplot\n",
    "\n",
    "# sns.boxplot(data=df)\n",
    "# sns.boxplot(data=df_melted, patch_artist=True, boxprops=dict(facecolor='lightblue'))#,showfliers=False)\n",
    "plt.boxplot(list(time), patch_artist=True, boxprops=dict(facecolor='lightblue'))#,showfliers=False)\n",
    "\n",
    "plt.tick_params(axis='both', direction='in')\n",
    "# plt.xlabel(\"Quantum iteration\")\n",
    "plt.ylabel(\"Time\")\n",
    "new_labels = [15, 20, 25, 30]\n",
    "plt.xticks(ticks=np.arange(1, len(new_labels) + 1), labels=new_labels)\n",
    "plt.xlabel('Bonds')\n",
    "plt.savefig(\"imgs/SCALING_TIME_TwoLocal_rep2_alpha0p1_bilinear.png\", dpi=300, bbox_inches='tight')\n",
    "plt.show()"
   ]
  },
  {
   "cell_type": "markdown",
   "id": "b902bc9d",
   "metadata": {},
   "source": [
    "#### Ansatz Characteristics"
   ]
  },
  {
   "cell_type": "code",
   "execution_count": null,
   "id": "454b33c4",
   "metadata": {},
   "outputs": [
    {
     "name": "stdout",
     "output_type": "stream",
     "text": [
      "Bonds: 15\n",
      "depth: 8     2q-depth:  4       num params:  45\n",
      "num-q/width: 15, \n",
      "count ops: OrderedDict([('ry', 45), ('cz', 28), ('measure', 15), ('barrier', 1)])\n",
      "\n",
      "Bonds: 20\n",
      "depth: 8     2q-depth:  4       num params:  60\n",
      "num-q/width: 20, \n",
      "count ops: OrderedDict([('ry', 60), ('cz', 38), ('measure', 20), ('barrier', 1)])\n",
      "\n",
      "Bonds: 25\n",
      "depth: 8     2q-depth:  4       num params:  75\n",
      "num-q/width: 25, \n",
      "count ops: OrderedDict([('ry', 75), ('cz', 48), ('measure', 25), ('barrier', 1)])\n",
      "\n",
      "Bonds: 30\n",
      "depth: 8     2q-depth:  4       num params:  90\n",
      "num-q/width: 30, \n",
      "count ops: OrderedDict([('ry', 90), ('cz', 58), ('measure', 30), ('barrier', 1)])\n",
      "\n"
     ]
    }
   ],
   "source": [
    "num_bonds = [15,20,25,30]\n",
    "\n",
    "\n",
    "for (id_bond, num_bond) in enumerate(num_bonds):\n",
    "    print(f\"Bonds: {num_bond}\")\n",
    "\n",
    "    path = f'../data/1/scaling/Data_Scaling/Bonds{num_bond}_TwoLocal2rep_piby3_AerSimulator_0p1/isa_ansatz.qpy'\n",
    "    \n",
    "    with open(path, 'rb') as fd:\n",
    "        isa_ansatz = qpy.load(fd)[0]\n",
    "    print('depth:', isa_ansatz.depth(), '    2q-depth: ', isa_ansatz.depth(lambda x:x.operation.num_qubits==2), '      num params: ', isa_ansatz.num_parameters)\n",
    "    print(f\"num-q/width: {isa_ansatz.num_qubits}, \\ncount ops: {isa_ansatz.count_ops()}\\n\")\n"
   ]
  },
  {
   "cell_type": "markdown",
   "id": "f0a1fa73",
   "metadata": {},
   "source": [
    "### BFCD, alpha=0.1, rep=2, bilinear"
   ]
  },
  {
   "cell_type": "code",
   "execution_count": null,
   "id": "f2789a3d",
   "metadata": {},
   "outputs": [],
   "source": [
    "num_bonds = [15,20,25,30]\n",
    "runs = 10\n",
    "rel_gap = np.zeros((len(num_bonds),runs))\n",
    "time = np.zeros((len(num_bonds),runs))\n",
    "is_feasible_check = np.zeros((len(num_bonds),runs))\n",
    "num_evals = np.zeros((len(num_bonds),runs))\n",
    "\n",
    "\n",
    "for (id_bond, num_bond) in enumerate(num_bonds):\n",
    "    for exp_id in range(runs):\n",
    "        path = f'1/scaling/Bonds{num_bond}_bfcd2rep_piby3_AerSimulator_0p1/exp{exp_id}.pkl'\n",
    "        ds = Experiment.read_experiment(path)\n",
    "        rel_gap[id_bond,exp_id] = (ds.step3_result_best_fx-ds.refvalue)/ds.step3_result_best_fx\n",
    "        time[id_bond,exp_id] = ds.step3_time\n",
    "        num_evals[id_bond,exp_id] = len(ds.step3_iter_best_fx)\n",
    "        is_feasible_check[id_bond,exp_id] = is_feasible(f'../data/1/scaling/normalized_problem_{num_bond}bonds_v3.lp',ds.step3_result_best_x)\n",
    "        # print(f' Bonds: {num_bond}\\n Time: {ds.step3_time}\\n num_evals: {len(ds.step3_iter_best_fx)}\\n refval: {ds.refvalue}\\n best_x: {ds.step3_result_best_fx}\\n')"
   ]
  },
  {
   "cell_type": "markdown",
   "id": "5576eb76",
   "metadata": {},
   "source": [
    "#### Is the solution feasible?"
   ]
  },
  {
   "cell_type": "code",
   "execution_count": 47,
   "id": "e39bc93c",
   "metadata": {},
   "outputs": [
    {
     "data": {
      "text/plain": [
       "array([1., 1., 1., 1.])"
      ]
     },
     "execution_count": 47,
     "metadata": {},
     "output_type": "execute_result"
    }
   ],
   "source": [
    "np.sum(is_feasible_check == True, axis=1)/runs"
   ]
  },
  {
   "cell_type": "markdown",
   "id": "ebcd8f66",
   "metadata": {},
   "source": [
    "#### Relative Gap"
   ]
  },
  {
   "cell_type": "code",
   "execution_count": 64,
   "id": "cff0914b",
   "metadata": {},
   "outputs": [
    {
     "data": {
      "image/png": "[encoded data removed]",
      "text/plain": [
       "<Figure size 290x210 with 1 Axes>"
      ]
     },
     "metadata": {},
     "output_type": "display_data"
    }
   ],
   "source": [
    "plt.figure(figsize=(2.9, 2.1))\n",
    "# Create the boxplot\n",
    "\n",
    "# sns.boxplot(data=df)\n",
    "# sns.boxplot(data=df_melted, patch_artist=True, boxprops=dict(facecolor='lightblue'))#,showfliers=False)\n",
    "plt.boxplot(list(rel_gap), patch_artist=True, boxprops=dict(facecolor='lightyellow'))#,showfliers=False)\n",
    "\n",
    "plt.tick_params(axis='both', direction='in')\n",
    "# plt.xlabel(\"Quantum iteration\")\n",
    "plt.ylabel(\"Relative gap\")\n",
    "new_labels = [15, 20, 25, 30]\n",
    "plt.xticks(ticks=np.arange(1, len(new_labels) + 1), labels=new_labels)\n",
    "plt.xlabel('Bonds')\n",
    "plt.savefig(\"imgs/SCALING_RELGAP_bfcd_rep2_alpha0p1_bilinear.png\", dpi=300, bbox_inches='tight')\n",
    "plt.show()"
   ]
  },
  {
   "cell_type": "markdown",
   "id": "07ad9677",
   "metadata": {},
   "source": [
    "#### Time"
   ]
  },
  {
   "cell_type": "code",
   "execution_count": 65,
   "id": "963c792f",
   "metadata": {},
   "outputs": [
    {
     "data": {
      "image/png": "[encoded data removed]",
      "text/plain": [
       "<Figure size 290x210 with 1 Axes>"
      ]
     },
     "metadata": {},
     "output_type": "display_data"
    }
   ],
   "source": [
    "plt.figure(figsize=(2.9, 2.1))\n",
    "# Create the boxplot\n",
    "\n",
    "# sns.boxplot(data=df)\n",
    "# sns.boxplot(data=df_melted, patch_artist=True, boxprops=dict(facecolor='lightblue'))#,showfliers=False)\n",
    "plt.boxplot(list(time), patch_artist=True, boxprops=dict(facecolor='lightyellow'))#,showfliers=False)\n",
    "\n",
    "plt.tick_params(axis='both', direction='in')\n",
    "# plt.xlabel(\"Quantum iteration\")\n",
    "plt.ylabel(\"Time\")\n",
    "new_labels = [15, 20, 25, 30]\n",
    "plt.xticks(ticks=np.arange(1, len(new_labels) + 1), labels=new_labels)\n",
    "plt.xlabel('Bonds')\n",
    "plt.savefig(\"imgs/SCALING_TIME_bfcd_rep2_alpha0p1_bilinear.png\", dpi=300, bbox_inches='tight')\n",
    "plt.show()"
   ]
  },
  {
   "cell_type": "markdown",
   "id": "4c694894",
   "metadata": {},
   "source": [
    "#### Ansatz Characteristics"
   ]
  },
  {
   "cell_type": "code",
   "execution_count": null,
   "id": "ceb02a5d",
   "metadata": {},
   "outputs": [
    {
     "name": "stdout",
     "output_type": "stream",
     "text": [
      "Bonds: 15\n",
      "depth: 19     2q-depth:  8       num params:  86\n",
      "num-q/width: 15, \n",
      "count ops: OrderedDict([('rx', 84), ('rzz', 56), ('ry', 30), ('measure', 15), ('barrier', 1)])\n",
      "\n",
      "Bonds: 20\n",
      "depth: 19     2q-depth:  8       num params:  116\n",
      "num-q/width: 20, \n",
      "count ops: OrderedDict([('rx', 116), ('rzz', 76), ('ry', 40), ('measure', 20), ('barrier', 1)])\n",
      "\n",
      "Bonds: 25\n",
      "depth: 19     2q-depth:  8       num params:  146\n",
      "num-q/width: 25, \n",
      "count ops: OrderedDict([('rx', 144), ('rzz', 96), ('ry', 50), ('measure', 25), ('barrier', 1)])\n",
      "\n",
      "Bonds: 30\n",
      "depth: 19     2q-depth:  8       num params:  176\n",
      "num-q/width: 30, \n",
      "count ops: OrderedDict([('rx', 176), ('rzz', 116), ('ry', 60), ('measure', 30), ('barrier', 1)])\n",
      "\n"
     ]
    }
   ],
   "source": [
    "num_bonds = [15,20,25,30]\n",
    "\n",
    "\n",
    "for (id_bond, num_bond) in enumerate(num_bonds):\n",
    "    print(f\"Bonds: {num_bond}\")\n",
    "\n",
    "    path = f'../data/1/scaling/Data_Scaling/Bonds{num_bond}_bfcd2rep_piby3_AerSimulator_0p1/isa_ansatz.qpy'\n",
    "    \n",
    "    with open(path, 'rb') as fd:\n",
    "        isa_ansatz = qpy.load(fd)[0]\n",
    "    print('depth:', isa_ansatz.depth(), '    2q-depth: ', isa_ansatz.depth(lambda x:x.operation.num_qubits==2), '      num params: ', isa_ansatz.num_parameters)\n",
    "    print(f\"num-q/width: {isa_ansatz.num_qubits}, \\ncount ops: {isa_ansatz.count_ops()}\\n\")\n"
   ]
  },
  {
   "cell_type": "code",
   "execution_count": null,
   "id": "54116c86",
   "metadata": {},
   "outputs": [],
   "source": []
  }
 ],
 "metadata": {
  "kernelspec": {
   "display_name": "2025-QFinance-VG",
   "language": "python",
   "name": "python3"
  },
  "language_info": {
   "codemirror_mode": {
    "name": "ipython",
    "version": 3
   },
   "file_extension": ".py",
   "mimetype": "text/x-python",
   "name": "python",
   "nbconvert_exporter": "python",
   "pygments_lexer": "ipython3",
   "version": "3.11.13"
  }
 },
 "nbformat": 4,
 "nbformat_minor": 5
}
